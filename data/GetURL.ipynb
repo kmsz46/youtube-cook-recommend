{
 "cells": [
  {
   "cell_type": "markdown",
   "id": "mexican-workshop",
   "metadata": {},
   "source": [
    "# <center>YouTube APIで動画のデータを取得する</center>"
   ]
  },
  {
   "cell_type": "markdown",
   "id": "growing-massage",
   "metadata": {},
   "source": [
    "ここを参考にデータを収集してみる<br>\n",
    "url:https://qiita.com/kon2/items/f09def292c3b0be2bb8e"
   ]
  },
  {
   "cell_type": "markdown",
   "id": "adult-cuisine",
   "metadata": {},
   "source": [
    "## YouTube Data APIで再生リストから動画IDを取得"
   ]
  },
  {
   "cell_type": "code",
   "execution_count": 2,
   "id": "cooked-margin",
   "metadata": {},
   "outputs": [
    {
     "name": "stderr",
     "output_type": "stream",
     "text": [
      "/Users/msz/.pyenv/versions/3.8.7/lib/python3.8/site-packages/pandas/compat/__init__.py:97: UserWarning: Could not import the lzma module. Your installed Python is incomplete. Attempting to use lzma compression will result in a RuntimeError.\n",
      "  warnings.warn(msg)\n"
     ]
    }
   ],
   "source": [
    "### サンプルコード\n",
    "from googleapiclient.discovery import build\n",
    "import requests\n",
    "import json\n",
    "from pandas import json_normalize\n",
    "import pandas as pd\n",
    "from datetime import date\n",
    "\n",
    "URL = 'https://www.googleapis.com/youtube/v3/'\n",
    "\n",
    "API_KEY = 'APIKEY'\n",
    "# playlist_id = 'PL1NeGg1woXqlISJkxjgwHKgB8LmR7tk92'\n",
    "# # 二郎系ラーメン\n",
    "# playlist_id = 'PLRiGv_zZZiw-O-L8crBhfJrJJBNhUINel'\n",
    "# # 激辛ラーメン\n",
    "# playlist_id = 'PLRiGv_zZZiw_ViUw5MlfmoVFJq2NZnvAP'\n",
    "# # つけ麺\n",
    "# playlist_id = 'PLRiGv_zZZiw9Q7lxz5AzJmOh32No_FghX'\n",
    "# # まぜそば\n",
    "# playlist_id = 'PLRiGv_zZZiw-w4JSv9E3jA6Aplm-KPGfT'\n",
    "# # 家系ラーメン\n",
    "# playlist_id = 'PLRiGv_zZZiw94gFtfMiHyVvf1ZM_FPRUw'\n",
    "\n",
    "playlist_id_list = ['PLRiGv_zZZiw-O-L8crBhfJrJJBNhUINel',\n",
    "                               'PLRiGv_zZZiw_ViUw5MlfmoVFJq2NZnvAP',\n",
    "                               'PLRiGv_zZZiw9Q7lxz5AzJmOh32No_FghX',\n",
    "                               'PLRiGv_zZZiw-w4JSv9E3jA6Aplm-KPGfT',\n",
    "                               'PLRiGv_zZZiw94gFtfMiHyVvf1ZM_FPRUw']\n",
    "\n",
    "csv_list = ['jiro.csv','gekikara.csv','tsukemen.csv','mazesoba.csv','iekei.csv']\n",
    "\n",
    "# 初期化\n",
    "def initYoutube(API_KEY):\n",
    "        API_SERVICE_NAME = \"youtube\"\n",
    "        API_VERSION = \"v3\"\n",
    "        return build(API_SERVICE_NAME, API_VERSION, developerKey=API_KEY)\n",
    "\n",
    "def split_list(l,n):\n",
    "      for idx in range(0, len(l), n):\n",
    "            yield l[idx:idx + n]\n",
    "    \n",
    "# プレイリストから動画IDを取得する関数\n",
    "def getIDlistFromPlaylist(id_,youtube):\n",
    "        nextPageToken = 'start'\n",
    "        response = []\n",
    "\n",
    "        while(nextPageToken is not None):\n",
    "\n",
    "            if(nextPageToken == 'start'):\n",
    "                search_response = youtube.playlistItems().list(\n",
    "                part= 'snippet',\n",
    "                playlistId=id_,\n",
    "                maxResults = 50,\n",
    "                ).execute()\n",
    "            else:\n",
    "                search_response = youtube.playlistItems().list(\n",
    "                part= 'snippet',\n",
    "                playlistId=id_,\n",
    "                maxResults = 50,\n",
    "                pageToken = nextPageToken\n",
    "                ).execute()\n",
    "\n",
    "            if('nextPageToken' in search_response):\n",
    "                nextPageToken = search_response['nextPageToken']\n",
    "            else:\n",
    "                nextPageToken = None\n",
    "\n",
    "            for item in search_response['items']:\n",
    "                response.append(item['snippet']['resourceId']['videoId'])\n",
    "\n",
    "\n",
    "        response.reverse()   \n",
    "        return response\n",
    "    \n",
    "def getCountDetails(id_,youtube):\n",
    "        id_lists = split_list(id_,50)\n",
    "        response = []\n",
    "        \n",
    "        for id_list in id_lists:\n",
    "            search_response = youtube.videos().list(\n",
    "            part = 'statistics,snippet',\n",
    "            id=id_list,\n",
    "            ).execute()\n",
    "            \n",
    "            response.extend(search_response['items'])\n",
    "        \n",
    "        return response\n",
    "    \n",
    "def setCountDetail(id_list,youtube,file_path):\n",
    "    result = getCountDetails(id_list,youtube)\n",
    "    title_list          = []\n",
    "    chanel_list      = []\n",
    "    id_list              = []\n",
    "    link_list           = []\n",
    "    published_list = []\n",
    "    view_list          = []\n",
    "    comment_list = []\n",
    "    for item in result:\n",
    "        title_list.append(item['snippet']['title'])\n",
    "        chanel_list.append(item['snippet']['channelId'])\n",
    "        id_list.append(item['id'])\n",
    "        link_list.append('https://www.youtube.com/watch?v='+item['id'])\n",
    "        published_list.append(item['snippet']['publishedAt'])\n",
    "        view_list.append(int(item['statistics']['viewCount']) if 'viewCount' in item['statistics'] else -1)\n",
    "        comment_list.append(int(item['statistics']['commentCount'])  if 'commentCount' in item['statistics'] else -1)\n",
    "        \n",
    "    df = pd.DataFrame({\n",
    "        \"title\":title_list,\n",
    "        \"channel\":chanel_list,\n",
    "        \"id\":id_list,\n",
    "        \"link\":link_list,\n",
    "        \"publish\":published_list,\n",
    "        \"view\":view_list,\n",
    "        \"comment\":comment_list\n",
    "    })\n",
    "    \n",
    "    df.to_csv(file_path,encoding=\"utf-8\")\n",
    "        \n",
    "    return\n",
    "\n",
    "youtube = initYoutube(API_KEY)\n",
    "\n",
    "for playlist,path in zip(playlist_id_list,csv_list):\n",
    "    setCountDetail(getIDlistFromPlaylist(playlist,youtube),youtube,path)"
   ]
  }
 ],
 "metadata": {
  "kernelspec": {
   "display_name": "Python 3.9.5 ('base')",
   "language": "python",
   "name": "python3"
  },
  "language_info": {
   "codemirror_mode": {
    "name": "ipython",
    "version": 3
   },
   "file_extension": ".py",
   "mimetype": "text/x-python",
   "name": "python",
   "nbconvert_exporter": "python",
   "pygments_lexer": "ipython3",
   "version": "3.9.5"
  },
  "vscode": {
   "interpreter": {
    "hash": "448e0916e99eaddeb2c77fd5e9f288e1c26b43fcb28d0454a170e97ba222086d"
   }
  }
 },
 "nbformat": 4,
 "nbformat_minor": 5
}
