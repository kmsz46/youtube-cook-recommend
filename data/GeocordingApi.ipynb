{
 "cells": [
  {
   "cell_type": "markdown",
   "id": "851f23ba",
   "metadata": {},
   "source": [
    "# <center>店舗の座標を取得する</center>"
   ]
  },
  {
   "cell_type": "code",
   "execution_count": 9,
   "id": "47f7a602",
   "metadata": {},
   "outputs": [],
   "source": [
    "# 使用するライブラリ\n",
    "import pandas as pd\n",
    "from pygeocoder import Geocoder\n",
    "import googlemaps\n",
    "import time\n",
    "from tqdm import tqdm"
   ]
  },
  {
   "cell_type": "code",
   "execution_count": 10,
   "id": "27b3a960",
   "metadata": {},
   "outputs": [],
   "source": [
    "# 店舗情報の読みこみ\n",
    "shop_place = [\"東京都〜\",\"神奈川県〜\"]"
   ]
  },
  {
   "cell_type": "code",
   "execution_count": 19,
   "id": "5f3c50e1",
   "metadata": {},
   "outputs": [],
   "source": [
    "# 緯度経度の取得\n",
    "API_KEY = \"APIKEY\"\n",
    "\n",
    "# googlemapAPIの初期化\n",
    "gmaps = googlemaps.Client(key=API_KEY)"
   ]
  },
  {
   "cell_type": "code",
   "execution_count": 20,
   "id": "df1d5e58",
   "metadata": {},
   "outputs": [],
   "source": [
    "# 住所を入力することで座標を取得することができる\n",
    "result = gmaps.geocode(\"東京都〜\")"
   ]
  },
  {
   "cell_type": "code",
   "execution_count": 25,
   "id": "541159f3",
   "metadata": {},
   "outputs": [],
   "source": [
    "# 確認\n",
    "ido = result[0][\"geometry\"][\"location\"][\"lat\"]\n",
    "kdo = result[0][\"geometry\"][\"location\"][\"lng\"]"
   ]
  },
  {
   "cell_type": "markdown",
   "id": "555b38c1",
   "metadata": {},
   "source": [
    "### すべての座標を得る関数の作成"
   ]
  },
  {
   "cell_type": "code",
   "execution_count": 22,
   "id": "ae58fdce",
   "metadata": {},
   "outputs": [],
   "source": [
    "def get_point(place_list):\n",
    "    ido_list = []\n",
    "    kdo_list = []\n",
    "    # 緯度経度の取得\n",
    "    API_KEY = \"APIKEY\"\n",
    "\n",
    "    # googlemapAPIの初期化\n",
    "    gmaps = googlemaps.Client(key=API_KEY)\n",
    "    result_list = []\n",
    "    for place in tqdm(place_list):\n",
    "        result = gmaps.geocode(place)\n",
    "        result_list.append(result)\n",
    "        time.sleep(3)\n",
    "        try:\n",
    "            ido_list.append(result[0][\"geometry\"][\"location\"][\"lat\"])\n",
    "            kdo_list.append(result[0][\"geometry\"][\"location\"][\"lng\"])\n",
    "        except:\n",
    "            pass\n",
    "\n",
    "    return ido_list,kdo_list,result_list"
   ]
  },
  {
   "cell_type": "code",
   "execution_count": 23,
   "id": "12ad49a7",
   "metadata": {},
   "outputs": [
    {
     "name": "stderr",
     "output_type": "stream",
     "text": [
      "100%|██████████| 975/975 [51:19<00:00,  3.16s/it]\n"
     ]
    }
   ],
   "source": [
    "id_list,kdo_list,result_list = get_point(shop_place)"
   ]
  }
 ],
 "metadata": {
  "kernelspec": {
   "display_name": "Python 3.9.5 ('base')",
   "language": "python",
   "name": "python3"
  },
  "language_info": {
   "codemirror_mode": {
    "name": "ipython",
    "version": 3
   },
   "file_extension": ".py",
   "mimetype": "text/x-python",
   "name": "python",
   "nbconvert_exporter": "python",
   "pygments_lexer": "ipython3",
   "version": "3.9.5"
  },
  "vscode": {
   "interpreter": {
    "hash": "448e0916e99eaddeb2c77fd5e9f288e1c26b43fcb28d0454a170e97ba222086d"
   }
  }
 },
 "nbformat": 4,
 "nbformat_minor": 5
}
