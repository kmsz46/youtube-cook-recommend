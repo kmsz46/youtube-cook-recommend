{
 "cells": [
  {
   "cell_type": "markdown",
   "id": "interior-kitchen",
   "metadata": {},
   "source": [
    "# <center>情報抽出</center>"
   ]
  },
  {
   "cell_type": "code",
   "execution_count": 101,
   "id": "noted-business",
   "metadata": {},
   "outputs": [],
   "source": [
    "# 使用するライブラリ\n",
    "import pandas as pd\n",
    "import glob"
   ]
  },
  {
   "cell_type": "markdown",
   "id": "modified-country",
   "metadata": {},
   "source": [
    "### データの読み込み"
   ]
  },
  {
   "cell_type": "code",
   "execution_count": null,
   "id": "8a858160",
   "metadata": {},
   "outputs": [],
   "source": [
    "file_paths = glob.glob(\"*.csv\")"
   ]
  },
  {
   "cell_type": "code",
   "execution_count": 103,
   "id": "rental-oxygen",
   "metadata": {},
   "outputs": [],
   "source": [
    "df_list = []\n",
    "for file_path in file_paths:\n",
    "    df_list.append(pd.read_csv(file_path,encoding=\"utf-8\"))"
   ]
  },
  {
   "cell_type": "code",
   "execution_count": 104,
   "id": "fifth-guide",
   "metadata": {},
   "outputs": [],
   "source": [
    "genre = [\"まぜそば\",\"家系\",\"二郎系\",\"激辛\",\"つけ麺\"]\n",
    "kakutyo_list = []\n",
    "for df,g in zip(df_list,genre):\n",
    "    df[\"genre\"] = g\n",
    "    kakutyo_list.append(df)"
   ]
  },
  {
   "cell_type": "code",
   "execution_count": 106,
   "id": "recognized-steering",
   "metadata": {},
   "outputs": [],
   "source": [
    "df=pd.concat(kakutyo_list)"
   ]
  },
  {
   "cell_type": "code",
   "execution_count": 108,
   "id": "included-minority",
   "metadata": {},
   "outputs": [],
   "source": [
    "df = df.sort_values(\"number\")\n",
    "df = df.reset_index()"
   ]
  },
  {
   "cell_type": "markdown",
   "id": "hairy-coating",
   "metadata": {},
   "source": [
    "### 各種情報の抽出"
   ]
  },
  {
   "cell_type": "code",
   "execution_count": 197,
   "id": "hired-middle",
   "metadata": {},
   "outputs": [],
   "source": [
    "def description_analaysis(description,tdfk):\n",
    "    # 各種情報を取得\n",
    "    shop_data   = description[1].split(\"\\n\")\n",
    "    check_list = 0\n",
    "    shop_place = \"\"\n",
    "    shop_link = \"\"\n",
    "    shop_name = \"\"\n",
    "    \n",
    "    for data in shop_data[1:]:\n",
    "        # データのお掃除\n",
    "        if all(key not in data for key in [\"■\",\"#\",\"★\",\"◆\"]) and len(shop_place) == 0:\n",
    "            shop_place = data\n",
    "            shop_place = shop_place.split(\"http\")\n",
    "            if len(shop_place) == 2:\n",
    "                shop_link = \"http\"+shop_place[1]\n",
    "            shop_place = shop_place[0]\n",
    "        if \"http\" in data and len(shop_link) == 0:\n",
    "            shop_link = data\n",
    "    shop_name = shop_data[0]\n",
    "    if len(shop_name) == 0:\n",
    "        shop_name = shop_data[1]\n",
    "        \n",
    "    print(shop_name,shop_place,shop_link)\n",
    "        \n",
    "    return shop_name, shop_place,shop_link"
   ]
  },
  {
   "cell_type": "code",
   "execution_count": 199,
   "id": "eligible-incident",
   "metadata": {},
   "outputs": [],
   "source": [
    "def get_data(df):\n",
    "    descriptions = df[\"description\"].values.tolist()\n",
    "    cnt = 0\n",
    "    drop_list = []\n",
    "    # 情報抽出できない動画を削除する\n",
    "    for description in descriptions:\n",
    "        # 概要欄の情報を整理\n",
    "        description  = description.split(\"【本日のお店情報】\")\n",
    "        if len(description) == 1:\n",
    "            description  = description[0].split(\"【本日のラーメン情報】\")\n",
    "            if len(description) == 1:\n",
    "                description  = description[0].split(\"【本日のお店】\")\n",
    "                if len(description) == 1:\n",
    "                    drop_list.append(cnt)\n",
    "        cnt += 1\n",
    "    print(len(df))\n",
    "    df = df.drop(df.index[drop_list])\n",
    "    print(len(df))\n",
    "\n",
    "     \n",
    "    # データの抽出\n",
    "    descriptions = df[\"description\"].values.tolist()\n",
    "    susuru_comments = []\n",
    "    shop_names=[]\n",
    "    shop_places = []\n",
    "    shop_links = []\n",
    "    cnt = 0\n",
    "    drop_list = []\n",
    "    \n",
    "    for description in descriptions:\n",
    "        # 概要欄の情報を整理\n",
    "        description  = description.split(\"【本日のお店情報】\")\n",
    "        if len(description) == 1:\n",
    "            description  = description[0].split(\"【本日のラーメン情報】\")\n",
    "            if len(description) == 1:\n",
    "                description  = description[0].split(\"【本日のお店】\")         \n",
    "        susuru_comment     = description[0].split(\"\\n\")[-1]\n",
    "        # 各種情報を取得\n",
    "        shop_name, shop_place,shop_link = description_analaysis(description,tdfk)\n",
    "            \n",
    "        if len(shop_name) == 0 or len(shop_place) == 0 or len(shop_link) == 0:\n",
    "            drop_list.append(cnt)\n",
    "            cnt+=1\n",
    "            continue\n",
    "        # リストに格納\n",
    "        shop_names.append(shop_name)\n",
    "        shop_places.append(shop_place)\n",
    "        shop_links.append(shop_link)\n",
    "        \n",
    "        cnt += 1\n",
    "    print(len(df),len(drop_list))\n",
    "    df = df.drop(df.index[drop_list])\n",
    "    # データフレームに格納\n",
    "    df[\"shop_name\"] = shop_names\n",
    "    df[\"shop_place\"] = shop_places\n",
    "    df[\"shop_link\"] = shop_links\n",
    "    \n",
    "    return df"
   ]
  },
  {
   "cell_type": "code",
   "execution_count": 203,
   "id": "enabling-position",
   "metadata": {},
   "outputs": [],
   "source": [
    "df_extention = get_data(df)\n",
    "df_extention = df_extention.drop([\"Unnamed: 0\",\"Unnamed: 0.1\"], axis=1)"
   ]
  },
  {
   "cell_type": "code",
   "execution_count": 204,
   "id": "thousand-tourism",
   "metadata": {},
   "outputs": [],
   "source": [
    "df_extention = df_extention.reset_index()"
   ]
  },
  {
   "cell_type": "code",
   "execution_count": 205,
   "id": "interstate-street",
   "metadata": {},
   "outputs": [],
   "source": [
    "drop_list = [\"channel\",\"id\",\"description\"]\n",
    "df_extention = df_extention.drop(drop_list, axis=1)"
   ]
  },
  {
   "cell_type": "code",
   "execution_count": 206,
   "id": "skilled-bailey",
   "metadata": {},
   "outputs": [],
   "source": [
    "# 保存\n",
    "df_extention.to_csv(\"保存するためのパス\",encoding=\"utf-8\",index=False)"
   ]
  }
 ],
 "metadata": {
  "kernelspec": {
   "display_name": "Python 3.9.5 ('base')",
   "language": "python",
   "name": "python3"
  },
  "language_info": {
   "codemirror_mode": {
    "name": "ipython",
    "version": 3
   },
   "file_extension": ".py",
   "mimetype": "text/x-python",
   "name": "python",
   "nbconvert_exporter": "python",
   "pygments_lexer": "ipython3",
   "version": "3.9.5"
  },
  "vscode": {
   "interpreter": {
    "hash": "448e0916e99eaddeb2c77fd5e9f288e1c26b43fcb28d0454a170e97ba222086d"
   }
  }
 },
 "nbformat": 4,
 "nbformat_minor": 5
}
