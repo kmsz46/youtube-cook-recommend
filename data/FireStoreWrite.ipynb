{
 "cells": [
  {
   "cell_type": "markdown",
   "id": "orange-hartford",
   "metadata": {},
   "source": [
    "# <center>Firestoreにデータを置く</center>"
   ]
  },
  {
   "cell_type": "code",
   "execution_count": 1,
   "id": "satisfied-salem",
   "metadata": {},
   "outputs": [
    {
     "name": "stderr",
     "output_type": "stream",
     "text": [
      "/Users/msz/.pyenv/versions/3.8.7/lib/python3.8/site-packages/pandas/compat/__init__.py:97: UserWarning: Could not import the lzma module. Your installed Python is incomplete. Attempting to use lzma compression will result in a RuntimeError.\n",
      "  warnings.warn(msg)\n"
     ]
    }
   ],
   "source": [
    "# 使用するライブラリの読み込み\n",
    "import firebase_admin\n",
    "from firebase_admin import credentials\n",
    "from firebase_admin import firestore\n",
    "from google.cloud.firestore import GeoPoint\n",
    "import pandas as pd"
   ]
  },
  {
   "cell_type": "code",
   "execution_count": 3,
   "id": "military-vintage",
   "metadata": {},
   "outputs": [],
   "source": [
    "# pandasのDataFrameでcsvからデータを読み込む\n",
    "df = pd.read_csv(\"データを保存しているCSVファイル\",encoding=\"utf-8\")\n",
    "# 東京都に絞り込む\n",
    "df = df[df[\"shop_place\"].str.contains(\"東京都\")]"
   ]
  },
  {
   "cell_type": "code",
   "execution_count": 6,
   "id": "necessary-administrator",
   "metadata": {},
   "outputs": [],
   "source": [
    "# 各種リストの作成\n",
    "id_list = df[\"level_0\"].to_list()\n",
    "title_list = df[\"title\"].to_list()\n",
    "geo_n = df[\"ido\"].to_list()\n",
    "geo_t = df[\"kdo\"].to_list()\n",
    "genre = df[\"genre\"].to_list()\n",
    "youtube_link = df[\"link\"].to_list()\n",
    "youtube_id = [yl.split(\"v=\")[1] for yl in youtube_link]\n",
    "shop_name = df[\"shop_name\"].to_list()\n",
    "shop_link = df[\"shop_link\"].to_list()\n",
    "shop_place = df[\"shop_place\"].to_list()\n",
    "img_path = df[\"image_path\"].to_list()"
   ]
  },
  {
   "cell_type": "code",
   "execution_count": 7,
   "id": "bcfd8fab",
   "metadata": {},
   "outputs": [],
   "source": [
    "genre_dict = {\"家系\":\"iekei\",\n",
    "              \"二郎系\":\"jiro\",\n",
    "              \"激辛\":\"kara\",\n",
    "              \"つけ麺\":\"tsuke\",\n",
    "              \"まぜそば\":\"maze\"}"
   ]
  },
  {
   "cell_type": "code",
   "execution_count": 28,
   "id": "095f5f23",
   "metadata": {},
   "outputs": [
    {
     "name": "stdout",
     "output_type": "stream",
     "text": [
      "激辛\n",
      "つけ麺\n",
      "まぜそば\n",
      "家系\n"
     ]
    }
   ],
   "source": [
    "# firestoreに投げるためにデータの形を整形する\n",
    "genre_tmp = genre[0]\n",
    "all_dict_list = []\n",
    "dict_list = []\n",
    "for i,id_ in enumerate(id_list):\n",
    "    if genre[i] != genre_tmp:\n",
    "        print(genre[i])\n",
    "        genre_tmp = genre[i]\n",
    "        all_dict_list.append(dict_list)\n",
    "        dict_list = []\n",
    "    \n",
    "    dict_list.append({u'id':id_list[i],\n",
    "                    u'title':title_list[i],\n",
    "                    u'lat':geo_n[i],\n",
    "                    u'lng':geo_t[i],\n",
    "                    u'youtube_link':youtube_link[i],\n",
    "                    u'youtube_id':youtube_id[i],\n",
    "                    u'shop_name':shop_name[i],\n",
    "                    u'shop_place':shop_place[i],\n",
    "                    u'shop_link':shop_link[i]})\n",
    "all_dict_list.append(dict_list)"
   ]
  },
  {
   "cell_type": "code",
   "execution_count": 29,
   "id": "ad89ccfe",
   "metadata": {},
   "outputs": [],
   "source": [
    "genre_list = [\"jiro\",\"kara\",\"tsuke\",\"maze\",\"iekei\"]"
   ]
  },
  {
   "cell_type": "code",
   "execution_count": 26,
   "id": "indoor-intermediate",
   "metadata": {},
   "outputs": [],
   "source": [
    "\"\"\"\n",
    "firestoreデータにアクセス\n",
    "\"\"\"\n",
    "\n",
    "# 秘密鍵によるfirebaseに認証を行う\n",
    "cred = credentials.Certificate(\"発行された秘密鍵のjsonファイル名\")\n",
    "firebase_admin.initialize_app(cred)\n",
    "\n",
    "# firestoreにアクセスする\n",
    "db = firestore.client()\n",
    "\n",
    "\"\"\"\n",
    "firestoreにデータを書き込む\n",
    "\"\"\"\n",
    "for i,id_ in enumerate(genre_list):\n",
    "    # firestoreのtemplesのid_(1,2,3,4,...)にアクセス\n",
    "    ref = db.collection(\"shop_data\").document(id_)\n",
    "    # 各種データを書き込む\n",
    "    ref.set({u\"data\":all_dict_list[i]})"
   ]
  }
 ],
 "metadata": {
  "kernelspec": {
   "display_name": "Python 3.8.7 64-bit ('3.8.7')",
   "language": "python",
   "name": "python3"
  },
  "language_info": {
   "codemirror_mode": {
    "name": "ipython",
    "version": 3
   },
   "file_extension": ".py",
   "mimetype": "text/x-python",
   "name": "python",
   "nbconvert_exporter": "python",
   "pygments_lexer": "ipython3",
   "version": "3.8.7"
  },
  "vscode": {
   "interpreter": {
    "hash": "8911b5259dbd0d8efc3a898771700f5079b7f4dde0a0fd81fa26f998601e80ea"
   }
  }
 },
 "nbformat": 4,
 "nbformat_minor": 5
}
